{
 "cells": [
  {
   "cell_type": "code",
   "execution_count": 3,
   "metadata": {},
   "outputs": [
    {
     "name": "stdout",
     "output_type": "stream",
     "text": [
      "Enter Value 1 : 100\n",
      "Enter Arithematic Opreator : **\n",
      "Enter Value 2 : 2\n",
      "100  power  2  :  10000\n"
     ]
    }
   ],
   "source": [
    "val1 = int(input(\"Enter Value 1 : \"))\n",
    "oper = input(\"Enter Arithematic Opreator : \")\n",
    "val2 = int(input(\"Enter Value 2 : \"))\n",
    "\n",
    "if oper == '+':\n",
    "    result = val1 + val2\n",
    "    print(\"Addition : \", result)\n",
    "elif oper == '-':\n",
    "    result = val1 - val2\n",
    "    print(\"Subtraction : \", result)\n",
    "elif oper == '*':\n",
    "    result = val1 * val2\n",
    "    print(\"Multiplication : \", result)\n",
    "elif oper == '/':\n",
    "    result = val1 / val2\n",
    "    print(\"Division : \", result)\n",
    "elif oper == '**':\n",
    "    result = val1 ** val2\n",
    "    print(val1, \" power \", val2 ,\" : \", result)\n",
    "else:\n",
    "    print(\"Invalid Operator\")"
   ]
  },
  {
   "cell_type": "code",
   "execution_count": 4,
   "metadata": {},
   "outputs": [
    {
     "name": "stdout",
     "output_type": "stream",
     "text": [
      "TEXT  : Non-Numeric\n",
      "100  : Numeric\n",
      "True  : Non-Numeric\n",
      "3.14  : Non-Numeric\n",
      "$  : Non-Numeric\n"
     ]
    }
   ],
   "source": [
    "mylist = ['TEXT',100,True,3.14,'$']\n",
    "for i in mylist:\n",
    "    if type(i) == int:\n",
    "        print(i,\" : Numeric\")\n",
    "    else:\n",
    "        print(i,\" : Non-Numeric\")"
   ]
  },
  {
   "cell_type": "code",
   "execution_count": 5,
   "metadata": {},
   "outputs": [
    {
     "name": "stdout",
     "output_type": "stream",
     "text": [
      "Enter Key : key123\n",
      "Enter Value : Abdullah\n",
      "{'key123': 'Abdullah'}\n"
     ]
    }
   ],
   "source": [
    "mydict = {}\n",
    "mykey = input(\"Enter Key : \")\n",
    "myvalue = input(\"Enter Value : \")\n",
    "mydict.update( { mykey : myvalue } )\n",
    "print( mydict )"
   ]
  },
  {
   "cell_type": "code",
   "execution_count": 6,
   "metadata": {},
   "outputs": [
    {
     "name": "stdout",
     "output_type": "stream",
     "text": [
      "Sum of all numeric values :  1000\n"
     ]
    }
   ],
   "source": [
    "mydict = {\n",
    "    'val1' : 100,\n",
    "    'val2' : 900,\n",
    "    'mytext':'Name',\n",
    "    'mychar':'a'\n",
    "}\n",
    "\n",
    "result = 0\n",
    "for i in mydict.values():\n",
    "    if type(i) == int:\n",
    "        result += i\n",
    "\n",
    "print(\"Sum of all numeric values : \" , result)"
   ]
  },
  {
   "cell_type": "code",
   "execution_count": 7,
   "metadata": {},
   "outputs": [
    {
     "name": "stdout",
     "output_type": "stream",
     "text": [
      "Duplicates :  [8, 6, 3, 1]\n"
     ]
    }
   ],
   "source": [
    "mylist = [9,8,8,7,6,6,5,4,3,3,2,1,1]\n",
    "length = len( mylist )\n",
    "dups = []\n",
    "for i in range( length ):\n",
    "    a = i + 1\n",
    "    for b in range( a, length ):\n",
    "        if mylist[i] == mylist[b] and mylist[i] not in dups:\n",
    "            dups.append( mylist[i] )\n",
    "print(\"Duplicates : \" , dups )"
   ]
  },
  {
   "cell_type": "code",
   "execution_count": 8,
   "metadata": {},
   "outputs": [
    {
     "name": "stdout",
     "output_type": "stream",
     "text": [
      "Enter Key to Check : newkey\n",
      "Doesn't Exist\n"
     ]
    }
   ],
   "source": [
    "mydict = {\n",
    "    'val1' : 100,\n",
    "    'val2' : 900,\n",
    "    'mytext':'Name',\n",
    "    'mychar':'a'\n",
    "}\n",
    "mykey = input(\"Enter Key to Check : \")\n",
    "flag = False\n",
    "for i in mydict.keys():\n",
    "    if i == mykey:\n",
    "        flag = True\n",
    "        break\n",
    "\n",
    "if flag:\n",
    "    print(\"Exist\")\n",
    "else:\n",
    "    print(\"Doesn't Exist\")"
   ]
  },
  {
   "cell_type": "code",
   "execution_count": null,
   "metadata": {},
   "outputs": [],
   "source": []
  }
 ],
 "metadata": {
  "kernelspec": {
   "display_name": "Python 3",
   "language": "python",
   "name": "python3"
  },
  "language_info": {
   "codemirror_mode": {
    "name": "ipython",
    "version": 3
   },
   "file_extension": ".py",
   "mimetype": "text/x-python",
   "name": "python",
   "nbconvert_exporter": "python",
   "pygments_lexer": "ipython3",
   "version": "3.7.4"
  }
 },
 "nbformat": 4,
 "nbformat_minor": 2
}
