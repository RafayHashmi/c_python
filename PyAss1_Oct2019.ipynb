{
 "cells": [
  {
   "cell_type": "code",
   "execution_count": 1,
   "metadata": {},
   "outputs": [],
   "source": [
    "%config IPCompleter.greedy=True"
   ]
  },
  {
   "cell_type": "code",
   "execution_count": 3,
   "metadata": {
    "scrolled": false
   },
   "outputs": [
    {
     "name": "stdout",
     "output_type": "stream",
     "text": [
      "\n",
      "Twinkle, twinkle, little star,\n",
      "\tHow I wonder what you are!\n",
      "\t\tUp above the world so high,\n",
      "\t\tLike a diamond in the sky.\n",
      "Twinkle, twinkle, little star,\n",
      "\tHow I wonder what you are\n"
     ]
    }
   ],
   "source": [
    "print(\"\\nTwinkle, twinkle, little star,\\\n",
    "\\n\\tHow I wonder what you are!\\\n",
    "\\n\\t\\tUp above the world so high,\\\n",
    "\\n\\t\\tLike a diamond in the sky.\\\n",
    "\\nTwinkle, twinkle, little star,\\\n",
    "\\n\\tHow I wonder what you are\")"
   ]
  },
  {
   "cell_type": "code",
   "execution_count": 11,
   "metadata": {},
   "outputs": [
    {
     "name": "stdout",
     "output_type": "stream",
     "text": [
      "Python version : {} 3.7.4 (default, Aug 13 2019, 20:35:49) \n",
      "[GCC 7.3.0]\n"
     ]
    }
   ],
   "source": [
    "#import os\n",
    "#print( os.system(\"python --version\") )\n",
    "\n",
    "import sys\n",
    "print(\"Python version : {}\", sys.version )"
   ]
  },
  {
   "cell_type": "code",
   "execution_count": 13,
   "metadata": {},
   "outputs": [
    {
     "name": "stdout",
     "output_type": "stream",
     "text": [
      "2019-11-08 01:26:33.535689\n"
     ]
    }
   ],
   "source": [
    "import datetime\n",
    "print(\"Current datetime : {}\", datetime.datetime.now() )"
   ]
  },
  {
   "cell_type": "code",
   "execution_count": 22,
   "metadata": {},
   "outputs": [
    {
     "name": "stdout",
     "output_type": "stream",
     "text": [
      "Enter radius for circle area : 5\n",
      "78.53981633974483\n"
     ]
    }
   ],
   "source": [
    "import math\n",
    "r = int( input(\"Enter radius for circle area : \") )\n",
    "pi_val = math.pi\n",
    "area = eval(\" pi_val * r *r \")\n",
    "print( area )"
   ]
  },
  {
   "cell_type": "code",
   "execution_count": 31,
   "metadata": {},
   "outputs": [
    {
     "name": "stdout",
     "output_type": "stream",
     "text": [
      "Enter first name : a\n",
      "Enter last name : b\n",
      "Reverse order : {} ba\n"
     ]
    }
   ],
   "source": [
    "firstname = input(\"Enter first name : \")\n",
    "lastname = input(\"Enter last name : \")\n",
    "reverseorder = lastname + firstname\n",
    "print(\"Reverse order : {}\", reverseorder )"
   ]
  },
  {
   "cell_type": "code",
   "execution_count": 34,
   "metadata": {},
   "outputs": [
    {
     "name": "stdout",
     "output_type": "stream",
     "text": [
      "input value 1 :1\n",
      "input value 2 :1\n",
      "Addition : {} 2\n"
     ]
    }
   ],
   "source": [
    "x = int(input(\"input value 1 :\"))\n",
    "y = int(input(\"input value 2 :\"))\n",
    "print(\"Addition : {}\", x+y ) "
   ]
  }
 ],
 "metadata": {
  "kernelspec": {
   "display_name": "Python 3",
   "language": "python",
   "name": "python3"
  },
  "language_info": {
   "codemirror_mode": {
    "name": "ipython",
    "version": 3
   },
   "file_extension": ".py",
   "mimetype": "text/x-python",
   "name": "python",
   "nbconvert_exporter": "python",
   "pygments_lexer": "ipython3",
   "version": "3.7.4"
  }
 },
 "nbformat": 4,
 "nbformat_minor": 2
}
