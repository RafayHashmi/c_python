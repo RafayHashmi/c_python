{
 "cells": [
  {
   "cell_type": "code",
   "execution_count": 13,
   "metadata": {},
   "outputs": [
    {
     "name": "stdout",
     "output_type": "stream",
     "text": [
      " Enter Maths marks: 67\n",
      " Enter Physics marks: 89\n",
      " Enter Chemistry marks: 98\n",
      " Enter Computer marks: 67\n",
      " Enter Islamiat marks: 56\n",
      "---------------------MARKSHEET---------------------\n",
      " PERCENTAGE :  75.4\n",
      " GRADE : \n",
      "B\n",
      "---------------------THE END---------------------\n"
     ]
    }
   ],
   "source": [
    "maths = int(input(\" Enter Maths Marks: \"))\n",
    "physics = int(input(\" Enter Physics Marks: \"))\n",
    "chemistry = int(input(\" Enter Chemistry Marks: \"))\n",
    "computer = int(input(\" Enter Computer Marks: \"))\n",
    "islamiat = int(input(\" Enter Islamiat Marks: \"))\n",
    "\n",
    "print(\"---------------------MARKSHEET---------------------\")\n",
    "total = (maths + physics + chemistry + computer + islamiat)\n",
    "perc = (total*100) / 500\n",
    "print(\" PERCENTAGE : \", perc)\n",
    "\n",
    "if perc >= 80.0:\n",
    "    print(\" GRADE : A\")\n",
    "elif perc >= 70.0:\n",
    "    print(\" GRADE : B\")\n",
    "elif perc >= 60.0:\n",
    "    print(\" GRADE : C\")\n",
    "elif perc >= 50.0:\n",
    "    print(\" GRADE : D\")\n",
    "else:\n",
    "    print(\" GRADE : F\")\n",
    "    \n",
    "print(\"---------------------THE END---------------------\")"
   ]
  },
  {
   "cell_type": "code",
   "execution_count": 16,
   "metadata": {},
   "outputs": [
    {
     "name": "stdout",
     "output_type": "stream",
     "text": [
      "Enter an Interger Number : 1\n",
      "Number is Odd Number !\n"
     ]
    }
   ],
   "source": [
    "number = int(input(\"Enter an Interger Number : \"))\n",
    "if number % 2 == 0:\n",
    "    print(\"Number is Even Number !\")\n",
    "else:\n",
    "    print(\"Number is Odd Number !\")"
   ]
  },
  {
   "cell_type": "code",
   "execution_count": 22,
   "metadata": {},
   "outputs": [
    {
     "name": "stdout",
     "output_type": "stream",
     "text": [
      "List length : 8\n"
     ]
    }
   ],
   "source": [
    "arr = [12,23,34,45,56,67,87,89]\n",
    "print(\"List length :\", len(arr) )"
   ]
  },
  {
   "cell_type": "code",
   "execution_count": 28,
   "metadata": {},
   "outputs": [
    {
     "name": "stdout",
     "output_type": "stream",
     "text": [
      "Sum of Numeric Items in a List :  413\n"
     ]
    }
   ],
   "source": [
    "arr2 = [12,23,34,45,56,67,87,89]\n",
    "addition = 0\n",
    "for item in arr2:\n",
    "    addition = addition + item\n",
    "    \n",
    "print(\"Sum of Numeric Items in a List : \", addition)"
   ]
  },
  {
   "cell_type": "code",
   "execution_count": 30,
   "metadata": {},
   "outputs": [
    {
     "name": "stdout",
     "output_type": "stream",
     "text": [
      "Largest Number in a Numeric List : 89\n"
     ]
    }
   ],
   "source": [
    "arr3 = [12,23,34,45,56,67,87,89]\n",
    "print(\"Largest Number in a Numeric List :\", max(arr3) ) "
   ]
  },
  {
   "cell_type": "code",
   "execution_count": 34,
   "metadata": {},
   "outputs": [
    {
     "name": "stdout",
     "output_type": "stream",
     "text": [
      "Elements Less than 5 in List :\n",
      "1\n",
      "1\n",
      "2\n",
      "3\n"
     ]
    }
   ],
   "source": [
    "a = [1, 1, 2, 3, 5, 8, 13, 21, 34, 55, 89]\n",
    "print(\"Elements Less than 5 in List :\")\n",
    "for item in a:\n",
    "    if item < 5:\n",
    "        print(item)"
   ]
  }
 ],
 "metadata": {
  "kernelspec": {
   "display_name": "Python 3",
   "language": "python",
   "name": "python3"
  },
  "language_info": {
   "codemirror_mode": {
    "name": "ipython",
    "version": 3
   },
   "file_extension": ".py",
   "mimetype": "text/x-python",
   "name": "python",
   "nbconvert_exporter": "python",
   "pygments_lexer": "ipython3",
   "version": "3.7.4"
  }
 },
 "nbformat": 4,
 "nbformat_minor": 2
}
